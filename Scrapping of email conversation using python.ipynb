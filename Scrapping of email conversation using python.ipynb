{
 "cells": [
  {
   "cell_type": "code",
   "execution_count": 96,
   "metadata": {
    "colab": {
     "base_uri": "https://localhost:8080/"
    },
    "id": "tSFc0GHHBGN7",
    "outputId": "d433a2b1-7548-406a-8561-9ef4424ae8a9"
   },
   "outputs": [
    {
     "data": {
      "text/plain": [
       "200"
      ]
     },
     "execution_count": 96,
     "metadata": {},
     "output_type": "execute_result"
    }
   ],
   "source": [
    "import requests\n",
    "link = 'http://www.enron-mail.com/email/cuilla-m/inbox/OnePass_Member_continental_com_Specials_for_martin_5.html'\n",
    "x = requests.get(link, verify=0)\n",
    "x.status_code"
   ]
  },
  {
   "cell_type": "code",
   "execution_count": 97,
   "metadata": {
    "colab": {
     "base_uri": "https://localhost:8080/",
     "height": 140
    },
    "id": "M72ymwC4CF82",
    "outputId": "09a14ff4-c9fb-48ca-8c3d-a48fb3c6df9d"
   },
   "outputs": [
    {
     "data": {
      "application/vnd.google.colaboratory.intrinsic+json": {
       "type": "string"
      },
      "text/plain": [
       "'<html>\\n<head>\\n  <link rel=\"stylesheet\" href=\"/enron-style.css\" type=\"text/css\" media=\"screen\" />\\n  <title>OnePass Member continental.com Specials for martin cuilla</title>\\n</head>\\n<body>\\n\\n\\n\\n<table>\\n <tr>\\n  <td valign=\\'top\\'>\\n   <a href=\\'/\\'><img src=\\'/enron.gif\\' border=\\'0\\'></a>\\n  </td>\\n  <td valign=\\'top\\'>\\n   <a href=\\'/\\'>Enron Mail</a>\\n  </td>\\n </tr>\\n</table>\\n\\n<form action=\"http://www.google.com/cse\" id=\"cse-search-box\">\\n  <div>\\n    <input type=\"hidden\" name=\"cx\" value=\"007166982235299733892:lavzlotflsa\" />\\n    <input type=\"hidden\" name=\"ie\" value=\"UTF-8\" />\\n    <input type=\"text\" name=\"q\" size=\"31\" />\\n    <input type=\"submit\" name=\"sa\" value=\"Search\" />\\n  </div>\\n</form>\\n<script type=\"text/javascript\" src=\"http://www.google.com/coop/cse/brand?form=cse-search-box&lang=en\"></script>\\n\\n\\n<p>\\n\\n<script type=\"text/javascript\"><!--\\ngoogle_ad_client = \"pub-2513468826546181\";\\ngoogle_alternate_color = \"0000FF\";\\ngoogle_ad_width = 728;\\ngoogle_ad_height = 90;\\ngoogle_ad_format = \"728x90_as\";\\ngoogle_ad_type = \"text_image\";\\n//2007-08-20: enron-mail\\ngoogle_ad_channel = \"5848846077\";\\n//-->\\n</script>\\n<script type=\"text/javascript\"\\n  src=\"http://pagead2.googlesyndication.com/pagead/show_ads.js\">\\n</script>\\n\\n\\n<p>\\n<table>\\n<tr>\\n<td valign=\\'top\\'>\\n\\n<table class=\\'header\\'>\\n <tr>\\n  <td class=\\'header\\' valign=\\'top\\'>From:</td><td class=\\'header\\' valign=\\'top\\'><b><a href=\\'mailto:continental_airlines_inc@coair.rsc01.com\\'>continental_airlines_inc@coair.rsc01.com</a></b></td>\\n </tr>\\n <tr>\\n  <td class=\\'header\\' valign=\\'top\\'>To:</td><td class=\\'header\\' valign=\\'top\\'><b><a href=\\'mailto:mcuilla@ect.enron.com\\'>mcuilla@ect.enron.com</a></b></td>\\n </tr>\\n <tr>\\n  <td class=\\'header\\' valign=\\'top\\'>Subject:</td><td class=\\'header\\' valign=\\'top\\'><b>OnePass Member continental.com Specials for martin cuilla</b></td>\\n </tr>\\n <tr>\\n  <td class=\\'header\\' valign=\\'top\\'>Cc:</td><td class=\\'header\\' valign=\\'top\\'></td>\\n </tr>\\n <tr>\\n  <td class=\\'header\\' valign=\\'top\\'>Bcc:</td><td class=\\'header\\' valign=\\'top\\'></td>\\n </tr>\\n <tr>\\n  <td class=\\'header\\' valign=\\'top\\'>Date:</td><td class=\\'header\\' valign=\\'top\\'>Mon, 31 Dec 2001 19:04:58 -0800 (PST)</td>\\n </tr>\\n</table>\\n\\n<p>\\n<div class=\\'ebody\\'>\\ncontinental.com Specials for martin cuilla<br>Tuesday, January 1, 2002<br>****************************************<br><br>HAPPY NEW YEAR!<br><br>Continental makes it easy to unwind with an additional 10% off select sale fares to destinations in North America and Europe.  Hurry, seats are limited and this sale ends January 15, 2002.<br><br>Purchase your eTickets now at:<br><a href=\\'http://continentalairlines.rsc01.net/servlet/cc4?JHEVAZ\\'>http://continentalairlines.rsc01.net/servlet/cc4?JHEVAZ</a>*tJNpssHQLJmELgkhgEJht*z*VA<br><br><br>EARN UP TO 20,000 BONUS MILES*<br>Now through February 15, 2002, we\\'ll reward you with additional OnePass miles every time you purchase an eTicket on continental.com and fly - and that\\'s in addition to your actual flight miles.<br><br>View all the details and register at:<br><a href=\\'http://continentalairlines.rsc01.net/servlet/cc4?JHEVAZ\\'>http://continentalairlines.rsc01.net/servlet/cc4?JHEVAZ</a>*tJNpssHQLJmELgkhgEJht*z*XA<br><br>* NOTE: Bonus Mile offer does not apply to continental.com Specials.<br><br>TRAVEL UPDATES<br>Be sure to check continental.com at:<br><a href=\\'http://continentalairlines.rsc01.net/servlet/cc4?JHEVAZ\\'>http://continentalairlines.rsc01.net/servlet/cc4?JHEVAZ</a>*tJNpssHQLJmELgkhgEJht*z*YA<br>before leaving for the airport. We?re looking forward to welcoming you onboard!  <br><br>****************************************<br>TABLE OF CONTENTS <br>1. This Week\\'s Destinations<br>2. Hilton Hotels &amp; Resorts, Doubletree Hotels &amp; Resorts, &amp; Embassy Suites Hotels Offers<br>3. Westin Hotels &amp; Resorts, Sheraton Hotels &amp; Resorts, Four Points by Sheraton, St. Regis, The Luxury Collection and W Hotels Offers<br>4. Alamo Rent A Car Offers<br>5. National Car Rental Offers<br><br>****************************************<br>1. THIS WEEK\\'S DESTINATIONS<br><br>Depart Saturday, January 5 and return on either Monday, January 7 or Tuesday, January 8, 2002. Please see the Terms and Conditions listed at the end of this e-mail.<br><br>For OnePass members, here are special opportunities to redeem miles for travel to the following destinations. As an additional benefit, OnePass Elite members can travel using the miles below as the only payment necessary. The following are this week\\'s OnePass continental.com Specials.<br><br>To use your OnePass miles (as listed below) to purchase continental.com Specials, you must call 1-800-642-1617.<br><br>THERE WILL NOT BE AN ADDITIONAL $20 CHARGE WHEN REDEEMING ONEPASS MILES FOR CONTINENTAL.COM SPECIALS THROUGH THE TOLL FREE RESERVATIONS NUMBER.<br><br>If you are not using your OnePass miles, purchase continental.com Specials online until 11:59pm (CST) Friday at:<br><a href=\\'http://continentalairlines.rsc01.net/servlet/cc4?JHEVAZ\\'>http://continentalairlines.rsc01.net/servlet/cc4?JHEVAZ</a>*tJNpssHQLJmELgkhgEJht*z*ZA<br>You can also purchase continental.com Specials for an additional cost of $20 per ticket through our telephone service at 1-800-642-1617.<br><br>**********************************************<br>ROUND-TRIP TRAVEL MAY ORIGINATE IN EITHER CITY<br>**********************************************<br>****Roundtrip BETWEEN CLEVELAND, OH and:<br><br>$29 + 12,500 Miles or $119 - Milwaukee, WI<br><br>****Roundtrip BETWEEN HOUSTON, TX and:<br><br>$29 + 10,000 Miles or $109 - Alexandria, LA<br>$29 + 12,500 Miles or $119 - Amarillo, TX<br>$29 + 10,000 Miles or $109 - Beaumont/Pt. Arthur, TX<br>$29 + 10,000 Miles or $109 - Gulfport/Biloxi, MS<br>$29 + 12,500 Miles or $119 - Tulsa, OK<br><br>****Roundtrip BETWEEN NEW YORK/NEWARK and:<br><br>$29 + 12,500 Miles or $119 - Albany, NY<br>$29 + 12,500 Miles or $119 - Greensboro/Piedmont Triad, NC<br>$29 + 15,000 Miles or $159 - Kansas City, MO<br>$29 + 12,500 Miles or $129 - Nashville, TN<br>$29 + 15,000 Miles or $159 - New Orleans, LA<br>$29 + 10,000 Miles or $109 - Norfolk, VA<br>$29 + 10,000 Miles or $109 - Portland, ME<br>$29 + 10,000 Miles or $109 - Richmond, VA<br>$29 + 10,000 Miles or $109 - Syracuse, NY<br><br><br>********************************<br>2. CONTINENTAL.COM SPECIALS FROM HILTON HOTELS AND RESORTS, DOUBLETREE<br>HOTELS AND RESORTS, AND EMBASSY SUITES HOTELS<br><br>The following rates are available January 5 ? January 7, 2002 and are priced per night.<br>--------------------------------------<br>Cleveland, OH - Hilton Garden Inn, Cleveland Airport - $79<br><br>Houston, TX - Embassy Suites Hotel Houston, Near The Galleria - $130<br>Houston, TX - Hilton Houston Hobby Airport - $88<br>Houston, TX - Hilton Houston Westchase and Towers - $149<br><br>Nashville, TN - Hilton Suites Nashville, Downtown - $109<br><br>Newark, NJ - Doubletree Club Suites Jersey City, Jersey City  NJ - $149 (January 5-6 only)<br>Newark, NJ - Hilton Pearl River, Pearl River  NY - $125<br><br><br>To book this week\\'s special rates for Hilton Family Hotels, visit and book at:<br><a href=\\'http://continentalairlines.rsc01.net/servlet/cc4?JHEVAZ\\'>http://continentalairlines.rsc01.net/servlet/cc4?JHEVAZ</a>*tJNpssHQLJmELgkhgEJht*z*AA<br>Special rates apply only for the dates listed at each hotel and are subject to availability. Check hilton.com for specific dates at each Hilton Family Hotel. Or call at 1-800-774-1500 and ask for Value Rates. Restrictions apply to these rates.<br><br>****************************************<br>3. CONTINENTAL.COM SPECIALS LAST-MINUTE WEEKEND RATES FROM WESTIN HOTELS &amp; RESORTS, SHERATON HOTELS &amp; RESORTS, FOUR POINTS BY SHERATON, ST. REGIS, THE LUXURY COLLECTION, AND W HOTELS <br><br>There are no offerings from Westin Hotels &amp; Resorts, Sheraton Hotels &amp; Resorts, Four Points by Sheraton, St. Regis, The Luxury Collection and W Hotels this week.<br><br><br>********************************<br>4. CONTINENTAL.COM SPECIALS FROM ALAMO RENT A CAR <br><br>Rates listed below are valid on compact class vehicles at airport locations only. Other car types may be available. Rates are valid for rentals on Saturday, January 5 with returns Monday, January 7 or Tuesday, January 8, 2002.<br>-------------------------------<br>$17 a day in: Milwaukee, WI (MKE)<br>$18 a day in: Greensboro/Piedmont Triad, NC (GSO)<br>$18 a day in: Houston, TX (IAH)<br>$18 a day in: Kansas City, MO (MCI)<br>$18 a day in: Nashville, TN (BNA)<br>$18 a day in: Tulsa, OK (TUL)<br>$20 a day in: Cleveland, OH (CLE)<br>$26 a day in: New Orleans, LA (MSY)<br>$26 a day in: Newark, NJ (EWR)<br><br>To receive continental.com Specials discounted rates, simply make advance reservations and be sure to request ID # 596871 and Rate Code 33. Book your reservation online at:<br><a href=\\'http://continentalairlines.rsc01.net/servlet/cc4?JHEVAZ\\'>http://continentalairlines.rsc01.net/servlet/cc4?JHEVAZ</a>*tJNpssHQLJmELgkhgEJht*z*BA<br>or contact Alamo at 1-800 GO ALAMO.<br><br>*If you are traveling to a city or a different date that is not listed, Alamo offers great rates when you book online at:<br><a href=\\'http://continentalairlines.rsc01.net/servlet/cc4?JHEVAZ\\'>http://continentalairlines.rsc01.net/servlet/cc4?JHEVAZ</a>*tJNpssHQLJmELgkhgEJht*z*CA<br>For complete details on these offers, please refer to Alamo\\'s terms and conditions below.<br><br>****************************************<br>5. CONTINENTAL.COM SPECIALS FROM NATIONAL CAR RENTAL <br><br>Rates listed below are valid on intermediate class vehicles at airport locations only. Other car types may be available. Rates are valid for rentals on Saturday, January 5 with returns Monday, January 7 or Tuesday, January 8, 2002.<br>------------------------------------------<br>$21 a day in: Amarillo, TX (AMA)<br>$21 a day in: Greensboro/Piedmont Triad, NC (GSO)<br>$21 a day in: Gulfport/Biloxi, MS (GPT)<br>$21 a day in: Houston, TX (IAH)<br>$21 a day in: Kansas City, MO (MCI)<br>$21 a day in: Nashville, TN (BNA)<br>$21 a day in: Syracuse, NY (SYR)<br>$21 a day in: Tulsa, OK (TUL)<br>$23 a day in: Cleveland, OH (CLE)<br>$28 a day in: Alexandria, LA (AEX)<br>$28 a day in: Norfolk, VA (ORF)<br>$28 a day in: Richmond, VA (RIC)<br>$29 a day in: New Orleans, LA (MSY)<br>$29 a day in: Newark, NJ (EWR)<br><br>To receive continental.com Specials discounted rates, simply make your reservations in advance and be sure to request Product Code COOLUS. To make your reservation, contact National at 1-800-CAR-RENT (1-800-227-7368), or book your reservation online at:<br><a href=\\'http://continentalairlines.rsc01.net/servlet/cc4?JHEVAZ\\'>http://continentalairlines.rsc01.net/servlet/cc4?JHEVAZ</a>*tJNpssHQLJmELgkhgEJht*z*DA<br>Please enter COOLUS in the Product Rate Code field, and 5037126 in the Contract ID field to ensure you get these rates on these dates.<br><br>* If you are traveling to a city or a different date that is not listed, National offers great rates when you book online at:<br><a href=\\'http://continentalairlines.rsc01.net/servlet/cc4?JHEVAZ\\'>http://continentalairlines.rsc01.net/servlet/cc4?JHEVAZ</a>*tJNpssHQLJmELgkhgEJht*z*VUA<br>For complete details on these offers, please refer to National\\'s terms and conditions below.<br><br>****************************************<br>CONTINENTAL.COM SPECIALS RULES:  <br>Fares include a $37.20 fuel surcharge.  Passenger Facility Charges, up to $18 depending on routing, are not included. Up to $2.75 per segment federal excise tax, as applicable, is not included.  Applicable International and or Canadian taxes and fees up to $108, varying by destination, are not included and may vary slightly depending on currency exchange rate at the time of purchase. For a complete listing of rules please visit:<br><a href=\\'http://continentalairlines.rsc01.net/servlet/cc4?JHEVAZ\\'>http://continentalairlines.rsc01.net/servlet/cc4?JHEVAZ</a>*tJNpssHQLJmELgkhgEJht*z*VVA<br> <br><br>ALAMO RENT A CAR\\'S TERMS AND CONDITIONS:  <br>Taxes (including VLF taxes up to US$1.89 per day in California and GST), other governmentally-authorized or imposed surcharges, license recoupment fees, fuel, additional driver fee, drop charges and optional items (such as CDW Waiver Savers(R) up to US$18.99 a day,) are extra. Renter must meet standard age, driver and credit requirements. Rates higher for drivers under age 25. Concession recoupment fees may add up to 14% to the rental rate at some on-airport locations. Up to 10.75% may be added to the rental rate if you rent at an off-airport location and exit on our shuttle bus. Weekly rates require a 5-day minimum rental or daily rates apply. For weekend rates, the vehicle must be picked up after 9 a.m. on Thursday and returned before midnight on Monday or higher daily rates apply. 24-hour advance reservation required. May not be combined with other discounts. Availability is limited. All vehicles must be returned to the country of origin. Offer not valid in San Jose, CA. <br> <br>NATIONAL CAR RENTAL TERMS AND CONDITIONS:  <br>Customer must provide Contract ID# at the time of reservation to be eligible for discounts. Offer valid at participating National locations in the US and Canada. Minimum rental age is 25. This offer is not valid with any other special discount or promotion. Standard rental qualifications apply. Subject to availability and blackout dates. Advance reservations required. Geographic driving restrictions may apply.  <br><br>TERMS AND CONDITIONS FOR WESTIN, SHERATON, FOUR POINTS, <br>ST. REGIS, THE LUXURY COLLECTION, AND W HOTELS:  <br>Offer is subject to availability. Advance Reservations required and is based on single/double occupancy. Offer not applicable to group travel. Additional Service charge and tax may apply. The discount is reflected in the rate quoted. Offer valid at participating hotel only. Offer valid for stays on Fri - Mon with a Friday or Saturday night arrival required. Rate available for this coming weekend only. Offer available only by making reservations via the internet. A limited number of rooms may be available at these rates. <br> <br>--------------------------------------- <br>This e-mail message and its contents are copyrighted and are proprietary products of Continental Airlines, Inc. Any unauthorized use, reproduction, or transfer of the message or its content, in any medium, is strictly prohibited. <br> <br>**************************************** <br>If you need assistance please visit:<br><a href=\\'http://continentalairlines.rsc01.net/servlet/cc4?JHEVAZ\\'>http://continentalairlines.rsc01.net/servlet/cc4?JHEVAZ</a>*tJNpssHQLJmELgkhgEJht*z*VWA<br>View our privacy policy at:<br><a href=\\'http://continentalairlines.rsc01.net/servlet/cc4?JHEVAZ\\'>http://continentalairlines.rsc01.net/servlet/cc4?JHEVAZ</a>*tJNpssHQLJmELgkhgEJht*z*VXA<br><br>This e-mail was sent to: <a href=\\'mailto:mcuilla@ect.enron.com\\'>mcuilla@ect.enron.com</a><br>You registered with OnePass Number: DH116248 <br><br>TO UNSUBSCRIBE:  <br>We hope you will find continental.com Specials a valuable source of information. However, if you prefer not to take advantage of this opportunity, please let us know by visiting the continental.com Specials page on our web site at:<br><a href=\\'http://continentalairlines.rsc01.net/servlet/cc4?JHEVAZ\\'>http://continentalairlines.rsc01.net/servlet/cc4?JHEVAZ</a>*tJNpssHQLJmELgkhgEJht*z*VZA<br><br>TO SUBSCRIBE:  <br>Please visit the continental.com Specials page on our web site at:<br><a href=\\'http://continentalairlines.rsc01.net/servlet/cc4?JHEVAZ\\'>http://continentalairlines.rsc01.net/servlet/cc4?JHEVAZ</a>*tJNpssHQLJmELgkhgEJht*z*VYA<br><br>\\n</div>\\n\\n\\n<p>\\n\\n<script type=\"text/javascript\"><!--\\ngoogle_ad_client = \"pub-2513468826546181\";\\n/* enron mail bottom 728x90, created 1/16/09 */\\ngoogle_ad_slot = \"6630338417\";\\ngoogle_ad_width = 728;\\ngoogle_ad_height = 90;\\n//-->\\n</script>\\n<script type=\"text/javascript\"\\nsrc=\"http://pagead2.googlesyndication.com/pagead/show_ads.js\">\\n</script>\\n\\n</td>\\n<td valign=\\'top\\'>\\n\\n<script type=\"text/javascript\"><!--\\namazon_ad_tag = \"enrmai-20\"; amazon_ad_width = \"160\"; amazon_ad_height = \"600\"; amazon_ad_logo = \"hide\"; amazon_ad_include = \"enron\"; amazon_ad_categories = \"ac\";//--></script>\\n<script type=\"text/javascript\" src=\"http://www.assoc-amazon.com/s/ads.js\"></script>\\n\\n</td>\\n</tr>\\n</table>\\n\\n\\n<script src=\"http://www.google-analytics.com/urchin.js\" type=\"text/javascript\">\\n</script>\\n<script type=\"text/javascript\">\\n_uacct = \"UA-2197461-1\";\\nurchinTracker();\\n</script>\\n\\n</body>\\n</html>\\n'"
      ]
     },
     "execution_count": 97,
     "metadata": {},
     "output_type": "execute_result"
    }
   ],
   "source": [
    "x.text"
   ]
  },
  {
   "cell_type": "code",
   "execution_count": 98,
   "metadata": {
    "id": "h_6P4BJlhNXc"
   },
   "outputs": [],
   "source": [
    "import re"
   ]
  },
  {
   "cell_type": "code",
   "execution_count": 99,
   "metadata": {
    "id": "fCumVDDUVple"
   },
   "outputs": [],
   "source": [
    "Date = re.findall('(?P<date>(\\w+ \\d+, \\d{4}))',x.text)\n",
    "Links = re.findall('(?P<Link>(http:\\/\\/[\\w\\.\\/\\?\\*]+)(<\\/a>)([\\w\\*]+))',x.text)\n",
    "Subjects = re.findall('Subject:[\\W[a-z]+(?P<subject>([\\w \\.]+))',x.text)\n",
    "Email = re.findall('(?P<Email>([\\w\\.]+@[\\w\\.]+))',x.text) \n",
    "Tableofcontent= re.findall('(<br>(?P<table>\\d\\. [A-Z]?[a-z]+[^<]+).*?)',x.text)"
   ]
  },
  {
   "cell_type": "code",
   "execution_count": 100,
   "metadata": {
    "id": "YVawkVGqhdMC"
   },
   "outputs": [],
   "source": [
    "import pandas as pd\n",
    "Date = pd.DataFrame(Date)\n",
    "Links = pd.DataFrame(Links)\n",
    "Subjects = pd.DataFrame(Subjects)\n",
    "Email = pd.DataFrame(Email)\n",
    "Tableofcontent = pd.DataFrame(Tableofcontent)"
   ]
  },
  {
   "cell_type": "code",
   "execution_count": 101,
   "metadata": {
    "id": "6TfAHFqAnwR9"
   },
   "outputs": [],
   "source": [
    "del Subjects[0]\n",
    "del Links[0]\n",
    "del Links[2]\n",
    "del Email[0]\n",
    "del Tableofcontent[0]\n",
    "Links[0]=Links[1]+Links[3]"
   ]
  },
  {
   "cell_type": "markdown",
   "metadata": {
    "id": "5Aa8KNCbtZ1H"
   },
   "source": [
    "**TABLE OF CONTENT**"
   ]
  },
  {
   "cell_type": "code",
   "execution_count": 102,
   "metadata": {
    "colab": {
     "base_uri": "https://localhost:8080/",
     "height": 215
    },
    "id": "HxjEk0rstYWL",
    "outputId": "bf47ce88-9172-4b28-d004-a7e27e0ebbf5"
   },
   "outputs": [
    {
     "data": {
      "text/html": [
       "\n",
       "  <div id=\"df-3e1ba863-bc52-4bf8-8377-f5958463103c\">\n",
       "    <div class=\"colab-df-container\">\n",
       "      <div>\n",
       "<style scoped>\n",
       "    .dataframe tbody tr th:only-of-type {\n",
       "        vertical-align: middle;\n",
       "    }\n",
       "\n",
       "    .dataframe tbody tr th {\n",
       "        vertical-align: top;\n",
       "    }\n",
       "\n",
       "    .dataframe thead th {\n",
       "        text-align: right;\n",
       "    }\n",
       "</style>\n",
       "<table border=\"1\" class=\"dataframe\">\n",
       "  <thead>\n",
       "    <tr style=\"text-align: right;\">\n",
       "      <th></th>\n",
       "      <th>1</th>\n",
       "    </tr>\n",
       "  </thead>\n",
       "  <tbody>\n",
       "    <tr>\n",
       "      <th>0</th>\n",
       "      <td>1. This Week's Destinations</td>\n",
       "    </tr>\n",
       "    <tr>\n",
       "      <th>1</th>\n",
       "      <td>2. Hilton Hotels &amp;amp; Resorts, Doubletree Hot...</td>\n",
       "    </tr>\n",
       "    <tr>\n",
       "      <th>2</th>\n",
       "      <td>3. Westin Hotels &amp;amp; Resorts, Sheraton Hotel...</td>\n",
       "    </tr>\n",
       "    <tr>\n",
       "      <th>3</th>\n",
       "      <td>4. Alamo Rent A Car Offers</td>\n",
       "    </tr>\n",
       "    <tr>\n",
       "      <th>4</th>\n",
       "      <td>5. National Car Rental Offers</td>\n",
       "    </tr>\n",
       "  </tbody>\n",
       "</table>\n",
       "</div>\n",
       "      <button class=\"colab-df-convert\" onclick=\"convertToInteractive('df-3e1ba863-bc52-4bf8-8377-f5958463103c')\"\n",
       "              title=\"Convert this dataframe to an interactive table.\"\n",
       "              style=\"display:none;\">\n",
       "        \n",
       "  <svg xmlns=\"http://www.w3.org/2000/svg\" height=\"24px\"viewBox=\"0 0 24 24\"\n",
       "       width=\"24px\">\n",
       "    <path d=\"M0 0h24v24H0V0z\" fill=\"none\"/>\n",
       "    <path d=\"M18.56 5.44l.94 2.06.94-2.06 2.06-.94-2.06-.94-.94-2.06-.94 2.06-2.06.94zm-11 1L8.5 8.5l.94-2.06 2.06-.94-2.06-.94L8.5 2.5l-.94 2.06-2.06.94zm10 10l.94 2.06.94-2.06 2.06-.94-2.06-.94-.94-2.06-.94 2.06-2.06.94z\"/><path d=\"M17.41 7.96l-1.37-1.37c-.4-.4-.92-.59-1.43-.59-.52 0-1.04.2-1.43.59L10.3 9.45l-7.72 7.72c-.78.78-.78 2.05 0 2.83L4 21.41c.39.39.9.59 1.41.59.51 0 1.02-.2 1.41-.59l7.78-7.78 2.81-2.81c.8-.78.8-2.07 0-2.86zM5.41 20L4 18.59l7.72-7.72 1.47 1.35L5.41 20z\"/>\n",
       "  </svg>\n",
       "      </button>\n",
       "      \n",
       "  <style>\n",
       "    .colab-df-container {\n",
       "      display:flex;\n",
       "      flex-wrap:wrap;\n",
       "      gap: 12px;\n",
       "    }\n",
       "\n",
       "    .colab-df-convert {\n",
       "      background-color: #E8F0FE;\n",
       "      border: none;\n",
       "      border-radius: 50%;\n",
       "      cursor: pointer;\n",
       "      display: none;\n",
       "      fill: #1967D2;\n",
       "      height: 32px;\n",
       "      padding: 0 0 0 0;\n",
       "      width: 32px;\n",
       "    }\n",
       "\n",
       "    .colab-df-convert:hover {\n",
       "      background-color: #E2EBFA;\n",
       "      box-shadow: 0px 1px 2px rgba(60, 64, 67, 0.3), 0px 1px 3px 1px rgba(60, 64, 67, 0.15);\n",
       "      fill: #174EA6;\n",
       "    }\n",
       "\n",
       "    [theme=dark] .colab-df-convert {\n",
       "      background-color: #3B4455;\n",
       "      fill: #D2E3FC;\n",
       "    }\n",
       "\n",
       "    [theme=dark] .colab-df-convert:hover {\n",
       "      background-color: #434B5C;\n",
       "      box-shadow: 0px 1px 3px 1px rgba(0, 0, 0, 0.15);\n",
       "      filter: drop-shadow(0px 1px 2px rgba(0, 0, 0, 0.3));\n",
       "      fill: #FFFFFF;\n",
       "    }\n",
       "  </style>\n",
       "\n",
       "      <script>\n",
       "        const buttonEl =\n",
       "          document.querySelector('#df-3e1ba863-bc52-4bf8-8377-f5958463103c button.colab-df-convert');\n",
       "        buttonEl.style.display =\n",
       "          google.colab.kernel.accessAllowed ? 'block' : 'none';\n",
       "\n",
       "        async function convertToInteractive(key) {\n",
       "          const element = document.querySelector('#df-3e1ba863-bc52-4bf8-8377-f5958463103c');\n",
       "          const dataTable =\n",
       "            await google.colab.kernel.invokeFunction('convertToInteractive',\n",
       "                                                     [key], {});\n",
       "          if (!dataTable) return;\n",
       "\n",
       "          const docLinkHtml = 'Like what you see? Visit the ' +\n",
       "            '<a target=\"_blank\" href=https://colab.research.google.com/notebooks/data_table.ipynb>data table notebook</a>'\n",
       "            + ' to learn more about interactive tables.';\n",
       "          element.innerHTML = '';\n",
       "          dataTable['output_type'] = 'display_data';\n",
       "          await google.colab.output.renderOutput(dataTable, element);\n",
       "          const docLink = document.createElement('div');\n",
       "          docLink.innerHTML = docLinkHtml;\n",
       "          element.appendChild(docLink);\n",
       "        }\n",
       "      </script>\n",
       "    </div>\n",
       "  </div>\n",
       "  "
      ],
      "text/plain": [
       "                                                   1\n",
       "0                        1. This Week's Destinations\n",
       "1  2. Hilton Hotels &amp; Resorts, Doubletree Hot...\n",
       "2  3. Westin Hotels &amp; Resorts, Sheraton Hotel...\n",
       "3                         4. Alamo Rent A Car Offers\n",
       "4                      5. National Car Rental Offers"
      ]
     },
     "execution_count": 102,
     "metadata": {},
     "output_type": "execute_result"
    }
   ],
   "source": [
    "Tableofcontent"
   ]
  },
  {
   "cell_type": "markdown",
   "metadata": {
    "id": "S0Ax3RsczCn4"
   },
   "source": [
    "**ALL EMAILS**"
   ]
  },
  {
   "cell_type": "code",
   "execution_count": 103,
   "metadata": {
    "colab": {
     "base_uri": "https://localhost:8080/"
    },
    "id": "ciCkGKuyswBK",
    "outputId": "d7a3f03d-6da3-4268-a955-a1cb9686109e"
   },
   "outputs": [
    {
     "data": {
      "text/plain": [
       "array(['continental_airlines_inc@coair.rsc01.com',\n",
       "       'mcuilla@ect.enron.com'], dtype=object)"
      ]
     },
     "execution_count": 103,
     "metadata": {},
     "output_type": "execute_result"
    }
   ],
   "source": [
    "Email[1].unique()"
   ]
  },
  {
   "cell_type": "markdown",
   "metadata": {
    "id": "-WtWp4fOzGri"
   },
   "source": [
    "**SUBJECT OF EMAIL**"
   ]
  },
  {
   "cell_type": "code",
   "execution_count": 104,
   "metadata": {
    "colab": {
     "base_uri": "https://localhost:8080/",
     "height": 129
    },
    "id": "B0KPxmeqzMtH",
    "outputId": "8ebeea44-7bc1-4896-eacd-23a6a8375d8f"
   },
   "outputs": [
    {
     "data": {
      "text/html": [
       "\n",
       "  <div id=\"df-a014798e-6950-4ae1-9e33-f1efa7eeb417\">\n",
       "    <div class=\"colab-df-container\">\n",
       "      <div>\n",
       "<style scoped>\n",
       "    .dataframe tbody tr th:only-of-type {\n",
       "        vertical-align: middle;\n",
       "    }\n",
       "\n",
       "    .dataframe tbody tr th {\n",
       "        vertical-align: top;\n",
       "    }\n",
       "\n",
       "    .dataframe thead th {\n",
       "        text-align: right;\n",
       "    }\n",
       "</style>\n",
       "<table border=\"1\" class=\"dataframe\">\n",
       "  <thead>\n",
       "    <tr style=\"text-align: right;\">\n",
       "      <th></th>\n",
       "      <th>1</th>\n",
       "    </tr>\n",
       "  </thead>\n",
       "  <tbody>\n",
       "    <tr>\n",
       "      <th>0</th>\n",
       "      <td>OnePass Member continental.com Specials for ma...</td>\n",
       "    </tr>\n",
       "  </tbody>\n",
       "</table>\n",
       "</div>\n",
       "      <button class=\"colab-df-convert\" onclick=\"convertToInteractive('df-a014798e-6950-4ae1-9e33-f1efa7eeb417')\"\n",
       "              title=\"Convert this dataframe to an interactive table.\"\n",
       "              style=\"display:none;\">\n",
       "        \n",
       "  <svg xmlns=\"http://www.w3.org/2000/svg\" height=\"24px\"viewBox=\"0 0 24 24\"\n",
       "       width=\"24px\">\n",
       "    <path d=\"M0 0h24v24H0V0z\" fill=\"none\"/>\n",
       "    <path d=\"M18.56 5.44l.94 2.06.94-2.06 2.06-.94-2.06-.94-.94-2.06-.94 2.06-2.06.94zm-11 1L8.5 8.5l.94-2.06 2.06-.94-2.06-.94L8.5 2.5l-.94 2.06-2.06.94zm10 10l.94 2.06.94-2.06 2.06-.94-2.06-.94-.94-2.06-.94 2.06-2.06.94z\"/><path d=\"M17.41 7.96l-1.37-1.37c-.4-.4-.92-.59-1.43-.59-.52 0-1.04.2-1.43.59L10.3 9.45l-7.72 7.72c-.78.78-.78 2.05 0 2.83L4 21.41c.39.39.9.59 1.41.59.51 0 1.02-.2 1.41-.59l7.78-7.78 2.81-2.81c.8-.78.8-2.07 0-2.86zM5.41 20L4 18.59l7.72-7.72 1.47 1.35L5.41 20z\"/>\n",
       "  </svg>\n",
       "      </button>\n",
       "      \n",
       "  <style>\n",
       "    .colab-df-container {\n",
       "      display:flex;\n",
       "      flex-wrap:wrap;\n",
       "      gap: 12px;\n",
       "    }\n",
       "\n",
       "    .colab-df-convert {\n",
       "      background-color: #E8F0FE;\n",
       "      border: none;\n",
       "      border-radius: 50%;\n",
       "      cursor: pointer;\n",
       "      display: none;\n",
       "      fill: #1967D2;\n",
       "      height: 32px;\n",
       "      padding: 0 0 0 0;\n",
       "      width: 32px;\n",
       "    }\n",
       "\n",
       "    .colab-df-convert:hover {\n",
       "      background-color: #E2EBFA;\n",
       "      box-shadow: 0px 1px 2px rgba(60, 64, 67, 0.3), 0px 1px 3px 1px rgba(60, 64, 67, 0.15);\n",
       "      fill: #174EA6;\n",
       "    }\n",
       "\n",
       "    [theme=dark] .colab-df-convert {\n",
       "      background-color: #3B4455;\n",
       "      fill: #D2E3FC;\n",
       "    }\n",
       "\n",
       "    [theme=dark] .colab-df-convert:hover {\n",
       "      background-color: #434B5C;\n",
       "      box-shadow: 0px 1px 3px 1px rgba(0, 0, 0, 0.15);\n",
       "      filter: drop-shadow(0px 1px 2px rgba(0, 0, 0, 0.3));\n",
       "      fill: #FFFFFF;\n",
       "    }\n",
       "  </style>\n",
       "\n",
       "      <script>\n",
       "        const buttonEl =\n",
       "          document.querySelector('#df-a014798e-6950-4ae1-9e33-f1efa7eeb417 button.colab-df-convert');\n",
       "        buttonEl.style.display =\n",
       "          google.colab.kernel.accessAllowed ? 'block' : 'none';\n",
       "\n",
       "        async function convertToInteractive(key) {\n",
       "          const element = document.querySelector('#df-a014798e-6950-4ae1-9e33-f1efa7eeb417');\n",
       "          const dataTable =\n",
       "            await google.colab.kernel.invokeFunction('convertToInteractive',\n",
       "                                                     [key], {});\n",
       "          if (!dataTable) return;\n",
       "\n",
       "          const docLinkHtml = 'Like what you see? Visit the ' +\n",
       "            '<a target=\"_blank\" href=https://colab.research.google.com/notebooks/data_table.ipynb>data table notebook</a>'\n",
       "            + ' to learn more about interactive tables.';\n",
       "          element.innerHTML = '';\n",
       "          dataTable['output_type'] = 'display_data';\n",
       "          await google.colab.output.renderOutput(dataTable, element);\n",
       "          const docLink = document.createElement('div');\n",
       "          docLink.innerHTML = docLinkHtml;\n",
       "          element.appendChild(docLink);\n",
       "        }\n",
       "      </script>\n",
       "    </div>\n",
       "  </div>\n",
       "  "
      ],
      "text/plain": [
       "                                                   1\n",
       "0  OnePass Member continental.com Specials for ma..."
      ]
     },
     "execution_count": 104,
     "metadata": {},
     "output_type": "execute_result"
    }
   ],
   "source": [
    "Subjects"
   ]
  },
  {
   "cell_type": "markdown",
   "metadata": {
    "id": "MsJcor-DzPs5"
   },
   "source": [
    "**DATE**"
   ]
  },
  {
   "cell_type": "code",
   "execution_count": 105,
   "metadata": {
    "colab": {
     "base_uri": "https://localhost:8080/",
     "height": 269
    },
    "id": "B56jP6RczVwi",
    "outputId": "70ab1c5d-96f3-4e1e-956f-0052c0abd011"
   },
   "outputs": [
    {
     "data": {
      "text/html": [
       "\n",
       "  <div id=\"df-8bb20b45-0944-4e5f-b789-1de84148790d\">\n",
       "    <div class=\"colab-df-container\">\n",
       "      <div>\n",
       "<style scoped>\n",
       "    .dataframe tbody tr th:only-of-type {\n",
       "        vertical-align: middle;\n",
       "    }\n",
       "\n",
       "    .dataframe tbody tr th {\n",
       "        vertical-align: top;\n",
       "    }\n",
       "\n",
       "    .dataframe thead th {\n",
       "        text-align: right;\n",
       "    }\n",
       "</style>\n",
       "<table border=\"1\" class=\"dataframe\">\n",
       "  <thead>\n",
       "    <tr style=\"text-align: right;\">\n",
       "      <th></th>\n",
       "      <th>0</th>\n",
       "      <th>1</th>\n",
       "    </tr>\n",
       "  </thead>\n",
       "  <tbody>\n",
       "    <tr>\n",
       "      <th>0</th>\n",
       "      <td>January 1, 2002</td>\n",
       "      <td>January 1, 2002</td>\n",
       "    </tr>\n",
       "    <tr>\n",
       "      <th>1</th>\n",
       "      <td>January 15, 2002</td>\n",
       "      <td>January 15, 2002</td>\n",
       "    </tr>\n",
       "    <tr>\n",
       "      <th>2</th>\n",
       "      <td>February 15, 2002</td>\n",
       "      <td>February 15, 2002</td>\n",
       "    </tr>\n",
       "    <tr>\n",
       "      <th>3</th>\n",
       "      <td>January 8, 2002</td>\n",
       "      <td>January 8, 2002</td>\n",
       "    </tr>\n",
       "    <tr>\n",
       "      <th>4</th>\n",
       "      <td>January 7, 2002</td>\n",
       "      <td>January 7, 2002</td>\n",
       "    </tr>\n",
       "    <tr>\n",
       "      <th>5</th>\n",
       "      <td>January 8, 2002</td>\n",
       "      <td>January 8, 2002</td>\n",
       "    </tr>\n",
       "    <tr>\n",
       "      <th>6</th>\n",
       "      <td>January 8, 2002</td>\n",
       "      <td>January 8, 2002</td>\n",
       "    </tr>\n",
       "  </tbody>\n",
       "</table>\n",
       "</div>\n",
       "      <button class=\"colab-df-convert\" onclick=\"convertToInteractive('df-8bb20b45-0944-4e5f-b789-1de84148790d')\"\n",
       "              title=\"Convert this dataframe to an interactive table.\"\n",
       "              style=\"display:none;\">\n",
       "        \n",
       "  <svg xmlns=\"http://www.w3.org/2000/svg\" height=\"24px\"viewBox=\"0 0 24 24\"\n",
       "       width=\"24px\">\n",
       "    <path d=\"M0 0h24v24H0V0z\" fill=\"none\"/>\n",
       "    <path d=\"M18.56 5.44l.94 2.06.94-2.06 2.06-.94-2.06-.94-.94-2.06-.94 2.06-2.06.94zm-11 1L8.5 8.5l.94-2.06 2.06-.94-2.06-.94L8.5 2.5l-.94 2.06-2.06.94zm10 10l.94 2.06.94-2.06 2.06-.94-2.06-.94-.94-2.06-.94 2.06-2.06.94z\"/><path d=\"M17.41 7.96l-1.37-1.37c-.4-.4-.92-.59-1.43-.59-.52 0-1.04.2-1.43.59L10.3 9.45l-7.72 7.72c-.78.78-.78 2.05 0 2.83L4 21.41c.39.39.9.59 1.41.59.51 0 1.02-.2 1.41-.59l7.78-7.78 2.81-2.81c.8-.78.8-2.07 0-2.86zM5.41 20L4 18.59l7.72-7.72 1.47 1.35L5.41 20z\"/>\n",
       "  </svg>\n",
       "      </button>\n",
       "      \n",
       "  <style>\n",
       "    .colab-df-container {\n",
       "      display:flex;\n",
       "      flex-wrap:wrap;\n",
       "      gap: 12px;\n",
       "    }\n",
       "\n",
       "    .colab-df-convert {\n",
       "      background-color: #E8F0FE;\n",
       "      border: none;\n",
       "      border-radius: 50%;\n",
       "      cursor: pointer;\n",
       "      display: none;\n",
       "      fill: #1967D2;\n",
       "      height: 32px;\n",
       "      padding: 0 0 0 0;\n",
       "      width: 32px;\n",
       "    }\n",
       "\n",
       "    .colab-df-convert:hover {\n",
       "      background-color: #E2EBFA;\n",
       "      box-shadow: 0px 1px 2px rgba(60, 64, 67, 0.3), 0px 1px 3px 1px rgba(60, 64, 67, 0.15);\n",
       "      fill: #174EA6;\n",
       "    }\n",
       "\n",
       "    [theme=dark] .colab-df-convert {\n",
       "      background-color: #3B4455;\n",
       "      fill: #D2E3FC;\n",
       "    }\n",
       "\n",
       "    [theme=dark] .colab-df-convert:hover {\n",
       "      background-color: #434B5C;\n",
       "      box-shadow: 0px 1px 3px 1px rgba(0, 0, 0, 0.15);\n",
       "      filter: drop-shadow(0px 1px 2px rgba(0, 0, 0, 0.3));\n",
       "      fill: #FFFFFF;\n",
       "    }\n",
       "  </style>\n",
       "\n",
       "      <script>\n",
       "        const buttonEl =\n",
       "          document.querySelector('#df-8bb20b45-0944-4e5f-b789-1de84148790d button.colab-df-convert');\n",
       "        buttonEl.style.display =\n",
       "          google.colab.kernel.accessAllowed ? 'block' : 'none';\n",
       "\n",
       "        async function convertToInteractive(key) {\n",
       "          const element = document.querySelector('#df-8bb20b45-0944-4e5f-b789-1de84148790d');\n",
       "          const dataTable =\n",
       "            await google.colab.kernel.invokeFunction('convertToInteractive',\n",
       "                                                     [key], {});\n",
       "          if (!dataTable) return;\n",
       "\n",
       "          const docLinkHtml = 'Like what you see? Visit the ' +\n",
       "            '<a target=\"_blank\" href=https://colab.research.google.com/notebooks/data_table.ipynb>data table notebook</a>'\n",
       "            + ' to learn more about interactive tables.';\n",
       "          element.innerHTML = '';\n",
       "          dataTable['output_type'] = 'display_data';\n",
       "          await google.colab.output.renderOutput(dataTable, element);\n",
       "          const docLink = document.createElement('div');\n",
       "          docLink.innerHTML = docLinkHtml;\n",
       "          element.appendChild(docLink);\n",
       "        }\n",
       "      </script>\n",
       "    </div>\n",
       "  </div>\n",
       "  "
      ],
      "text/plain": [
       "                   0                  1\n",
       "0    January 1, 2002    January 1, 2002\n",
       "1   January 15, 2002   January 15, 2002\n",
       "2  February 15, 2002  February 15, 2002\n",
       "3    January 8, 2002    January 8, 2002\n",
       "4    January 7, 2002    January 7, 2002\n",
       "5    January 8, 2002    January 8, 2002\n",
       "6    January 8, 2002    January 8, 2002"
      ]
     },
     "execution_count": 105,
     "metadata": {},
     "output_type": "execute_result"
    }
   ],
   "source": [
    "Date"
   ]
  },
  {
   "cell_type": "markdown",
   "metadata": {
    "id": "T550KrdKzZ2G"
   },
   "source": [
    "**ALL LINKS IN EMAIL CONVERSATION**"
   ]
  },
  {
   "cell_type": "code",
   "execution_count": 115,
   "metadata": {
    "colab": {
     "base_uri": "https://localhost:8080/"
    },
    "id": "MEmhv_GGzfTB",
    "outputId": "c2f87671-ef87-4c87-9adc-e8d86fccebf1"
   },
   "outputs": [
    {
     "name": "stdout",
     "output_type": "stream",
     "text": [
      "http://continentalairlines.rsc01.net/servlet/cc4?JHEVAZ*tJNpssHQLJmELgkhgEJht*z*VA\n",
      "http://continentalairlines.rsc01.net/servlet/cc4?JHEVAZ*tJNpssHQLJmELgkhgEJht*z*XA\n",
      "http://continentalairlines.rsc01.net/servlet/cc4?JHEVAZ*tJNpssHQLJmELgkhgEJht*z*YA\n",
      "http://continentalairlines.rsc01.net/servlet/cc4?JHEVAZ*tJNpssHQLJmELgkhgEJht*z*ZA\n",
      "http://continentalairlines.rsc01.net/servlet/cc4?JHEVAZ*tJNpssHQLJmELgkhgEJht*z*AA\n",
      "http://continentalairlines.rsc01.net/servlet/cc4?JHEVAZ*tJNpssHQLJmELgkhgEJht*z*BA\n",
      "http://continentalairlines.rsc01.net/servlet/cc4?JHEVAZ*tJNpssHQLJmELgkhgEJht*z*CA\n",
      "http://continentalairlines.rsc01.net/servlet/cc4?JHEVAZ*tJNpssHQLJmELgkhgEJht*z*DA\n",
      "http://continentalairlines.rsc01.net/servlet/cc4?JHEVAZ*tJNpssHQLJmELgkhgEJht*z*VUA\n",
      "http://continentalairlines.rsc01.net/servlet/cc4?JHEVAZ*tJNpssHQLJmELgkhgEJht*z*VVA\n",
      "http://continentalairlines.rsc01.net/servlet/cc4?JHEVAZ*tJNpssHQLJmELgkhgEJht*z*VWA\n",
      "http://continentalairlines.rsc01.net/servlet/cc4?JHEVAZ*tJNpssHQLJmELgkhgEJht*z*VXA\n",
      "http://continentalairlines.rsc01.net/servlet/cc4?JHEVAZ*tJNpssHQLJmELgkhgEJht*z*VZA\n",
      "http://continentalairlines.rsc01.net/servlet/cc4?JHEVAZ*tJNpssHQLJmELgkhgEJht*z*VYA\n"
     ]
    }
   ],
   "source": [
    "for i in Links[0]:\n",
    "  print(i)"
   ]
  }
 ],
 "metadata": {
  "colab": {
   "collapsed_sections": [],
   "name": "DS-074/2020-2021 Mirza Ahsan Baig Assignment 2.ipynb",
   "provenance": []
  },
  "kernelspec": {
   "display_name": "Python 3 (ipykernel)",
   "language": "python",
   "name": "python3"
  },
  "language_info": {
   "codemirror_mode": {
    "name": "ipython",
    "version": 3
   },
   "file_extension": ".py",
   "mimetype": "text/x-python",
   "name": "python",
   "nbconvert_exporter": "python",
   "pygments_lexer": "ipython3",
   "version": "3.9.12"
  }
 },
 "nbformat": 4,
 "nbformat_minor": 1
}
